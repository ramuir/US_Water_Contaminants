{
 "cells": [
  {
   "cell_type": "code",
   "execution_count": 1,
   "metadata": {},
   "outputs": [],
   "source": [
    "import pandas as pd \n",
    "import os"
   ]
  },
  {
   "cell_type": "code",
   "execution_count": 2,
   "metadata": {},
   "outputs": [
    {
     "data": {
      "text/html": [
       "<div>\n",
       "<style scoped>\n",
       "    .dataframe tbody tr th:only-of-type {\n",
       "        vertical-align: middle;\n",
       "    }\n",
       "\n",
       "    .dataframe tbody tr th {\n",
       "        vertical-align: top;\n",
       "    }\n",
       "\n",
       "    .dataframe thead th {\n",
       "        text-align: right;\n",
       "    }\n",
       "</style>\n",
       "<table border=\"1\" class=\"dataframe\">\n",
       "  <thead>\n",
       "    <tr style=\"text-align: right;\">\n",
       "      <th></th>\n",
       "      <th>State Code</th>\n",
       "      <th>Latitude</th>\n",
       "      <th>Longitude</th>\n",
       "      <th>State</th>\n",
       "    </tr>\n",
       "  </thead>\n",
       "  <tbody>\n",
       "    <tr>\n",
       "      <th>0</th>\n",
       "      <td>AL</td>\n",
       "      <td>32.601011</td>\n",
       "      <td>-86.680736</td>\n",
       "      <td>Alabama</td>\n",
       "    </tr>\n",
       "    <tr>\n",
       "      <th>1</th>\n",
       "      <td>AK</td>\n",
       "      <td>61.302501</td>\n",
       "      <td>-158.775020</td>\n",
       "      <td>Alaska</td>\n",
       "    </tr>\n",
       "    <tr>\n",
       "      <th>2</th>\n",
       "      <td>AZ</td>\n",
       "      <td>34.168219</td>\n",
       "      <td>-111.930907</td>\n",
       "      <td>Arizona</td>\n",
       "    </tr>\n",
       "    <tr>\n",
       "      <th>3</th>\n",
       "      <td>AR</td>\n",
       "      <td>34.751928</td>\n",
       "      <td>-92.131378</td>\n",
       "      <td>Arkansas</td>\n",
       "    </tr>\n",
       "    <tr>\n",
       "      <th>4</th>\n",
       "      <td>CA</td>\n",
       "      <td>37.271875</td>\n",
       "      <td>-119.270415</td>\n",
       "      <td>California</td>\n",
       "    </tr>\n",
       "  </tbody>\n",
       "</table>\n",
       "</div>"
      ],
      "text/plain": [
       "  State Code   Latitude   Longitude       State\n",
       "0         AL  32.601011  -86.680736     Alabama\n",
       "1         AK  61.302501 -158.775020      Alaska\n",
       "2         AZ  34.168219 -111.930907     Arizona\n",
       "3         AR  34.751928  -92.131378    Arkansas\n",
       "4         CA  37.271875 -119.270415  California"
      ]
     },
     "execution_count": 2,
     "metadata": {},
     "output_type": "execute_result"
    }
   ],
   "source": [
    "# CSV for states fullname\n",
    "states_fullname = pd.read_csv('static/data/statelatlong.csv').rename(columns={'State':'State Code','City': 'State'})\n",
    "states_fullname.head()"
   ]
  },
  {
   "cell_type": "code",
   "execution_count": 3,
   "metadata": {},
   "outputs": [],
   "source": [
    "file_list = os.listdir(\"Data\")"
   ]
  },
  {
   "cell_type": "code",
   "execution_count": 4,
   "metadata": {},
   "outputs": [
    {
     "name": "stderr",
     "output_type": "stream",
     "text": [
      "C:\\Users\\ryana\\anaconda3\\envs\\bcs\\lib\\site-packages\\IPython\\core\\interactiveshell.py:3072: DtypeWarning: Columns (15,20) have mixed types.Specify dtype option on import or set low_memory=False.\n",
      "  interactivity=interactivity, compiler=compiler, result=result)\n",
      "C:\\Users\\ryana\\anaconda3\\envs\\bcs\\lib\\site-packages\\IPython\\core\\interactiveshell.py:3072: DtypeWarning: Columns (10,12,13,14,15) have mixed types.Specify dtype option on import or set low_memory=False.\n",
      "  interactivity=interactivity, compiler=compiler, result=result)\n",
      "C:\\Users\\ryana\\anaconda3\\envs\\bcs\\lib\\site-packages\\IPython\\core\\interactiveshell.py:3072: DtypeWarning: Columns (15) have mixed types.Specify dtype option on import or set low_memory=False.\n",
      "  interactivity=interactivity, compiler=compiler, result=result)\n"
     ]
    }
   ],
   "source": [
    "list_of_dataframes = []\n",
    "for filename in file_list:\n",
    "    list_of_dataframes.append(pd.read_table(\"Data/\"+filename))\n",
    "\n",
    "merged_df = pd.concat(list_of_dataframes)\n"
   ]
  },
  {
   "cell_type": "code",
   "execution_count": 5,
   "metadata": {},
   "outputs": [],
   "source": [
    "# adding states full names to full dataset\n",
    "merged_df = pd.merge(merged_df,states_fullname, on='State Code', how='outer')"
   ]
  },
  {
   "cell_type": "code",
   "execution_count": 6,
   "metadata": {},
   "outputs": [
    {
     "data": {
      "text/html": [
       "<div>\n",
       "<style scoped>\n",
       "    .dataframe tbody tr th:only-of-type {\n",
       "        vertical-align: middle;\n",
       "    }\n",
       "\n",
       "    .dataframe tbody tr th {\n",
       "        vertical-align: top;\n",
       "    }\n",
       "\n",
       "    .dataframe thead th {\n",
       "        text-align: right;\n",
       "    }\n",
       "</style>\n",
       "<table border=\"1\" class=\"dataframe\">\n",
       "  <thead>\n",
       "    <tr style=\"text-align: right;\">\n",
       "      <th></th>\n",
       "      <th>Analyte ID</th>\n",
       "      <th>Analyte Name</th>\n",
       "      <th>State Code</th>\n",
       "      <th>PWSID</th>\n",
       "      <th>System Name</th>\n",
       "      <th>System Type</th>\n",
       "      <th>Retail Population Served</th>\n",
       "      <th>Adjusted Total Population Served</th>\n",
       "      <th>Source Water Type</th>\n",
       "      <th>Water Facility ID</th>\n",
       "      <th>...</th>\n",
       "      <th>Detection Limit Code</th>\n",
       "      <th>Detect</th>\n",
       "      <th>Value</th>\n",
       "      <th>Unit</th>\n",
       "      <th>Presence Indicator Code</th>\n",
       "      <th>Residual Field Free Chlorine mg/L</th>\n",
       "      <th>Residual Field Total Chlorine mg/L</th>\n",
       "      <th>Latitude</th>\n",
       "      <th>Longitude</th>\n",
       "      <th>State</th>\n",
       "    </tr>\n",
       "  </thead>\n",
       "  <tbody>\n",
       "    <tr>\n",
       "      <th>0</th>\n",
       "      <td>1005.0</td>\n",
       "      <td>ARSENIC</td>\n",
       "      <td>AL</td>\n",
       "      <td>AL0000943</td>\n",
       "      <td>GUNTERSVILLE WATER WORKS &amp; SEWER BOARD</td>\n",
       "      <td>C</td>\n",
       "      <td>12750.0</td>\n",
       "      <td>13980.0</td>\n",
       "      <td>SW</td>\n",
       "      <td>1553.0</td>\n",
       "      <td>...</td>\n",
       "      <td>MDL</td>\n",
       "      <td>0.0</td>\n",
       "      <td>NaN</td>\n",
       "      <td>NaN</td>\n",
       "      <td>NaN</td>\n",
       "      <td>NaN</td>\n",
       "      <td>NaN</td>\n",
       "      <td>32.601011</td>\n",
       "      <td>-86.680736</td>\n",
       "      <td>Alabama</td>\n",
       "    </tr>\n",
       "    <tr>\n",
       "      <th>1</th>\n",
       "      <td>1005.0</td>\n",
       "      <td>ARSENIC</td>\n",
       "      <td>AL</td>\n",
       "      <td>AL0000091</td>\n",
       "      <td>BRENT UTILITIES BOARD</td>\n",
       "      <td>C</td>\n",
       "      <td>5850.0</td>\n",
       "      <td>6885.0</td>\n",
       "      <td>GW</td>\n",
       "      <td>4221.0</td>\n",
       "      <td>...</td>\n",
       "      <td>MDL</td>\n",
       "      <td>0.0</td>\n",
       "      <td>NaN</td>\n",
       "      <td>NaN</td>\n",
       "      <td>NaN</td>\n",
       "      <td>NaN</td>\n",
       "      <td>NaN</td>\n",
       "      <td>32.601011</td>\n",
       "      <td>-86.680736</td>\n",
       "      <td>Alabama</td>\n",
       "    </tr>\n",
       "    <tr>\n",
       "      <th>2</th>\n",
       "      <td>1005.0</td>\n",
       "      <td>ARSENIC</td>\n",
       "      <td>AL</td>\n",
       "      <td>AL0000933</td>\n",
       "      <td>ALBERTVILLE UTILITIES BOARD</td>\n",
       "      <td>C</td>\n",
       "      <td>30186.0</td>\n",
       "      <td>45915.0</td>\n",
       "      <td>SW</td>\n",
       "      <td>1665.0</td>\n",
       "      <td>...</td>\n",
       "      <td>MDL</td>\n",
       "      <td>0.0</td>\n",
       "      <td>NaN</td>\n",
       "      <td>NaN</td>\n",
       "      <td>NaN</td>\n",
       "      <td>NaN</td>\n",
       "      <td>NaN</td>\n",
       "      <td>32.601011</td>\n",
       "      <td>-86.680736</td>\n",
       "      <td>Alabama</td>\n",
       "    </tr>\n",
       "    <tr>\n",
       "      <th>3</th>\n",
       "      <td>1005.0</td>\n",
       "      <td>ARSENIC</td>\n",
       "      <td>AL</td>\n",
       "      <td>AL0000398</td>\n",
       "      <td>CULLMAN UTILITIES BOARD</td>\n",
       "      <td>C</td>\n",
       "      <td>32.0</td>\n",
       "      <td>31112.0</td>\n",
       "      <td>SW</td>\n",
       "      <td>1346.0</td>\n",
       "      <td>...</td>\n",
       "      <td>MDL</td>\n",
       "      <td>0.0</td>\n",
       "      <td>NaN</td>\n",
       "      <td>NaN</td>\n",
       "      <td>NaN</td>\n",
       "      <td>NaN</td>\n",
       "      <td>NaN</td>\n",
       "      <td>32.601011</td>\n",
       "      <td>-86.680736</td>\n",
       "      <td>Alabama</td>\n",
       "    </tr>\n",
       "    <tr>\n",
       "      <th>4</th>\n",
       "      <td>1005.0</td>\n",
       "      <td>ARSENIC</td>\n",
       "      <td>AL</td>\n",
       "      <td>AL0001780</td>\n",
       "      <td>FIVE STAR WATER SUPPLY DISTRICT</td>\n",
       "      <td>C</td>\n",
       "      <td>100.0</td>\n",
       "      <td>6040.0</td>\n",
       "      <td>SW</td>\n",
       "      <td>4793.0</td>\n",
       "      <td>...</td>\n",
       "      <td>MDL</td>\n",
       "      <td>0.0</td>\n",
       "      <td>NaN</td>\n",
       "      <td>NaN</td>\n",
       "      <td>NaN</td>\n",
       "      <td>NaN</td>\n",
       "      <td>NaN</td>\n",
       "      <td>32.601011</td>\n",
       "      <td>-86.680736</td>\n",
       "      <td>Alabama</td>\n",
       "    </tr>\n",
       "  </tbody>\n",
       "</table>\n",
       "<p>5 rows × 31 columns</p>\n",
       "</div>"
      ],
      "text/plain": [
       "   Analyte ID Analyte Name State Code       PWSID  \\\n",
       "0      1005.0      ARSENIC         AL  AL0000943    \n",
       "1      1005.0      ARSENIC         AL  AL0000091    \n",
       "2      1005.0      ARSENIC         AL  AL0000933    \n",
       "3      1005.0      ARSENIC         AL  AL0000398    \n",
       "4      1005.0      ARSENIC         AL  AL0001780    \n",
       "\n",
       "                              System Name System Type  \\\n",
       "0  GUNTERSVILLE WATER WORKS & SEWER BOARD        C      \n",
       "1                   BRENT UTILITIES BOARD        C      \n",
       "2             ALBERTVILLE UTILITIES BOARD        C      \n",
       "3                 CULLMAN UTILITIES BOARD        C      \n",
       "4         FIVE STAR WATER SUPPLY DISTRICT        C      \n",
       "\n",
       "   Retail Population Served  Adjusted Total Population Served  \\\n",
       "0                   12750.0                           13980.0   \n",
       "1                    5850.0                            6885.0   \n",
       "2                   30186.0                           45915.0   \n",
       "3                      32.0                           31112.0   \n",
       "4                     100.0                            6040.0   \n",
       "\n",
       "  Source Water Type  Water Facility ID  ... Detection Limit Code  Detect  \\\n",
       "0               SW              1553.0  ...                  MDL     0.0   \n",
       "1               GW              4221.0  ...                  MDL     0.0   \n",
       "2               SW              1665.0  ...                  MDL     0.0   \n",
       "3               SW              1346.0  ...                  MDL     0.0   \n",
       "4               SW              4793.0  ...                  MDL     0.0   \n",
       "\n",
       "  Value Unit Presence Indicator Code Residual Field Free Chlorine mg/L  \\\n",
       "0   NaN  NaN                     NaN                               NaN   \n",
       "1   NaN  NaN                     NaN                               NaN   \n",
       "2   NaN  NaN                     NaN                               NaN   \n",
       "3   NaN  NaN                     NaN                               NaN   \n",
       "4   NaN  NaN                     NaN                               NaN   \n",
       "\n",
       "   Residual Field Total Chlorine mg/L   Latitude  Longitude    State  \n",
       "0                                 NaN  32.601011 -86.680736  Alabama  \n",
       "1                                 NaN  32.601011 -86.680736  Alabama  \n",
       "2                                 NaN  32.601011 -86.680736  Alabama  \n",
       "3                                 NaN  32.601011 -86.680736  Alabama  \n",
       "4                                 NaN  32.601011 -86.680736  Alabama  \n",
       "\n",
       "[5 rows x 31 columns]"
      ]
     },
     "execution_count": 6,
     "metadata": {},
     "output_type": "execute_result"
    }
   ],
   "source": [
    "merged_df.head()"
   ]
  },
  {
   "cell_type": "code",
   "execution_count": 7,
   "metadata": {},
   "outputs": [
    {
     "name": "stderr",
     "output_type": "stream",
     "text": [
      "C:\\Users\\ryana\\anaconda3\\envs\\bcs\\lib\\site-packages\\ipykernel_launcher.py:6: SettingWithCopyWarning: \n",
      "A value is trying to be set on a copy of a slice from a DataFrame.\n",
      "Try using .loc[row_indexer,col_indexer] = value instead\n",
      "\n",
      "See the caveats in the documentation: https://pandas.pydata.org/pandas-docs/stable/user_guide/indexing.html#returning-a-view-versus-a-copy\n",
      "  \n"
     ]
    }
   ],
   "source": [
    "# remove repeated values skewing dating\n",
    "no_repeat_locations=merged_df.drop_duplicates(subset=['Analyte Name', 'System Name'])\n",
    "# Shorten column list\n",
    "clean_columns = no_repeat_locations[['Analyte ID', 'Analyte Name', 'State Code','State','Retail Population Served','Source Water Type','Sample Collection Date','Detection Limit Value','Detection Limit Unit','Detect', 'Value','Unit']]\n",
    "# change units to uppercase and strip extra spaces to unify\n",
    "clean_columns['Unit'] = clean_columns['Unit'].str.upper().str.rstrip()\n"
   ]
  },
  {
   "cell_type": "code",
   "execution_count": 8,
   "metadata": {},
   "outputs": [
    {
     "name": "stderr",
     "output_type": "stream",
     "text": [
      "C:\\Users\\ryana\\anaconda3\\envs\\bcs\\lib\\site-packages\\pandas\\core\\frame.py:3997: SettingWithCopyWarning: \n",
      "A value is trying to be set on a copy of a slice from a DataFrame\n",
      "\n",
      "See the caveats in the documentation: https://pandas.pydata.org/pandas-docs/stable/user_guide/indexing.html#returning-a-view-versus-a-copy\n",
      "  errors=errors,\n",
      "C:\\Users\\ryana\\anaconda3\\envs\\bcs\\lib\\site-packages\\pandas\\core\\indexing.py:966: SettingWithCopyWarning: \n",
      "A value is trying to be set on a copy of a slice from a DataFrame.\n",
      "Try using .loc[row_indexer,col_indexer] = value instead\n",
      "\n",
      "See the caveats in the documentation: https://pandas.pydata.org/pandas-docs/stable/user_guide/indexing.html#returning-a-view-versus-a-copy\n",
      "  self.obj[item] = s\n"
     ]
    }
   ],
   "source": [
    "# unify all measurement for each contaminant if possible AND DROP FECAL COLIFORM\n",
    "clean_columns.drop(clean_columns.index[clean_columns['Analyte Name'] == 'FECAL COLIFORM'], inplace = True)\n",
    "clean_columns.loc[clean_columns['Analyte Name']=='ARSENIC', 'Unit'] ='MG/L'\n",
    "clean_columns.loc[clean_columns['Analyte Name']=='ASBESTOS', 'Unit'] ='MFL'\n",
    "clean_columns.loc[clean_columns['Analyte Name']=='CYANIDE', 'Unit'] ='MG/L'\n",
    "clean_columns.loc[clean_columns['Analyte Name']=='MERCURY', 'Unit'] ='MG/L'\n",
    "clean_columns.loc[clean_columns['Analyte Name']=='OXAMYL', 'Unit'] ='UG/L'\n",
    "clean_columns.loc[clean_columns['Analyte Name']=='PICLORAM', 'Unit'] ='MG/L'\n",
    "clean_columns.loc[clean_columns['Analyte Name']=='SELENIUM', 'Unit'] ='MG/L'\n",
    "clean_columns.loc[clean_columns['Analyte Name']=='TOTAL POLYCHLORINATED BIPHENYLS (PCB)', 'Unit'] ='UG/L'"
   ]
  },
  {
   "cell_type": "code",
   "execution_count": 9,
   "metadata": {},
   "outputs": [
    {
     "data": {
      "text/plain": [
       "Analyte Name\n",
       "ARSENIC                                  [MG/L]\n",
       "ASBESTOS                                  [MFL]\n",
       "CYANIDE                                  [MG/L]\n",
       "FLUORIDE                                 [MG/L]\n",
       "MERCURY                                  [MG/L]\n",
       "OXAMYL                                   [UG/L]\n",
       "PICLORAM                                 [MG/L]\n",
       "SELENIUM                                 [MG/L]\n",
       "TOTAL POLYCHLORINATED BIPHENYLS (PCB)    [UG/L]\n",
       "Name: Unit, dtype: object"
      ]
     },
     "execution_count": 9,
     "metadata": {},
     "output_type": "execute_result"
    }
   ],
   "source": [
    "# unify all measurement for each contaminant if possible\n",
    "clean_columns.groupby(['Analyte Name'])['Unit'].unique()\n"
   ]
  },
  {
   "cell_type": "code",
   "execution_count": 10,
   "metadata": {},
   "outputs": [
    {
     "data": {
      "text/plain": [
       "0          0.000\n",
       "1          0.000\n",
       "2          0.000\n",
       "3          0.000\n",
       "4          0.000\n",
       "           ...  \n",
       "1615962    0.000\n",
       "1615963    0.000\n",
       "1615964    0.001\n",
       "1615967    0.420\n",
       "1615968    0.000\n",
       "Name: Value, Length: 332815, dtype: float64"
      ]
     },
     "execution_count": 10,
     "metadata": {},
     "output_type": "execute_result"
    }
   ],
   "source": [
    "# Change null Values to 0 \n",
    "clean_columns['Value'].fillna(0)"
   ]
  },
  {
   "cell_type": "code",
   "execution_count": 11,
   "metadata": {},
   "outputs": [],
   "source": [
    "clean_columns.to_csv('generate_sql/water_contamination.csv')"
   ]
  },
  {
   "cell_type": "code",
   "execution_count": 12,
   "metadata": {},
   "outputs": [
    {
     "data": {
      "text/html": [
       "<div>\n",
       "<style scoped>\n",
       "    .dataframe tbody tr th:only-of-type {\n",
       "        vertical-align: middle;\n",
       "    }\n",
       "\n",
       "    .dataframe tbody tr th {\n",
       "        vertical-align: top;\n",
       "    }\n",
       "\n",
       "    .dataframe thead th {\n",
       "        text-align: right;\n",
       "    }\n",
       "</style>\n",
       "<table border=\"1\" class=\"dataframe\">\n",
       "  <thead>\n",
       "    <tr style=\"text-align: right;\">\n",
       "      <th></th>\n",
       "      <th></th>\n",
       "      <th>sum</th>\n",
       "    </tr>\n",
       "    <tr>\n",
       "      <th>State</th>\n",
       "      <th>Analyte Name</th>\n",
       "      <th></th>\n",
       "    </tr>\n",
       "  </thead>\n",
       "  <tbody>\n",
       "    <tr>\n",
       "      <th rowspan=\"5\" valign=\"top\">Alabama</th>\n",
       "      <th>ARSENIC</th>\n",
       "      <td>0.008976</td>\n",
       "    </tr>\n",
       "    <tr>\n",
       "      <th>ASBESTOS</th>\n",
       "      <td>0.000000</td>\n",
       "    </tr>\n",
       "    <tr>\n",
       "      <th>CYANIDE</th>\n",
       "      <td>0.286000</td>\n",
       "    </tr>\n",
       "    <tr>\n",
       "      <th>FLUORIDE</th>\n",
       "      <td>84.210000</td>\n",
       "    </tr>\n",
       "    <tr>\n",
       "      <th>MERCURY</th>\n",
       "      <td>0.002016</td>\n",
       "    </tr>\n",
       "    <tr>\n",
       "      <th>...</th>\n",
       "      <th>...</th>\n",
       "      <td>...</td>\n",
       "    </tr>\n",
       "    <tr>\n",
       "      <th rowspan=\"5\" valign=\"top\">Wyoming</th>\n",
       "      <th>MERCURY</th>\n",
       "      <td>0.000300</td>\n",
       "    </tr>\n",
       "    <tr>\n",
       "      <th>OXAMYL</th>\n",
       "      <td>0.000000</td>\n",
       "    </tr>\n",
       "    <tr>\n",
       "      <th>PICLORAM</th>\n",
       "      <td>1.160000</td>\n",
       "    </tr>\n",
       "    <tr>\n",
       "      <th>SELENIUM</th>\n",
       "      <td>0.157900</td>\n",
       "    </tr>\n",
       "    <tr>\n",
       "      <th>TOTAL POLYCHLORINATED BIPHENYLS (PCB)</th>\n",
       "      <td>0.000000</td>\n",
       "    </tr>\n",
       "  </tbody>\n",
       "</table>\n",
       "<p>420 rows × 1 columns</p>\n",
       "</div>"
      ],
      "text/plain": [
       "                                                     sum\n",
       "State   Analyte Name                                    \n",
       "Alabama ARSENIC                                 0.008976\n",
       "        ASBESTOS                                0.000000\n",
       "        CYANIDE                                 0.286000\n",
       "        FLUORIDE                               84.210000\n",
       "        MERCURY                                 0.002016\n",
       "...                                                  ...\n",
       "Wyoming MERCURY                                 0.000300\n",
       "        OXAMYL                                  0.000000\n",
       "        PICLORAM                                1.160000\n",
       "        SELENIUM                                0.157900\n",
       "        TOTAL POLYCHLORINATED BIPHENYLS (PCB)   0.000000\n",
       "\n",
       "[420 rows x 1 columns]"
      ]
     },
     "execution_count": 12,
     "metadata": {},
     "output_type": "execute_result"
    }
   ],
   "source": [
    "#group by contaminant and state\n",
    "table_group = clean_columns.groupby(['State','Analyte Name'])['Value'].agg(['sum'])\n",
    "table_group"
   ]
  },
  {
   "cell_type": "code",
   "execution_count": 13,
   "metadata": {},
   "outputs": [],
   "source": [
    "from matplotlib import pyplot as plt"
   ]
  },
  {
   "cell_type": "code",
   "execution_count": null,
   "metadata": {},
   "outputs": [],
   "source": []
  },
  {
   "cell_type": "code",
   "execution_count": null,
   "metadata": {},
   "outputs": [],
   "source": []
  },
  {
   "cell_type": "code",
   "execution_count": 14,
   "metadata": {},
   "outputs": [],
   "source": [
    "#Locations with extreme levels of contaminants\n",
    "arsenic = clean_columns.loc[clean_columns['Analyte Name']=='ARSENIC']\n",
    "danger_levels_arsenic = arsenic[arsenic['Value']>=.2]\n",
    "ext_caution_levels_arsenic = arsenic[(arsenic['Value']<.2) & (arsenic['Value'] >= .05)]\n",
    "caution_levels_arsenic = arsenic[(arsenic['Value']<.5) & (arsenic['Value'] >= .01)]                               \n",
    "                                 \n",
    "selenium = clean_columns.loc[clean_columns['Analyte Name']=='SELENIUM']\n",
    "danger_levels_selenium = selenium[selenium['Value']>=15]\n",
    "ext_caution_levels_selenium= selenium[(selenium['Value']<15) & (selenium['Value'] >= 2.5)]\n",
    "caution_levels_selenium =selenium[(selenium['Value']<2.5) & (selenium['Value'] >= .04)] \n",
    "\n",
    "mercury = clean_columns.loc[clean_columns['Analyte Name']=='MERCURY']\n",
    "danger_levels_mercury = mercury[mercury['Value']>=.1]\n",
    "ext_caution_levels_mercury= mercury[(mercury['Value']<.1) & (mercury['Value'] >= .02)]\n",
    "caution_levels_mercury = mercury[(mercury['Value']<.02) & (mercury['Value'] >= .002)] \n",
    "\n",
    "flouride = clean_columns.loc[clean_columns['Analyte Name']=='FLOURIDE']\n",
    "danger_levels_flouride = flouride[flouride['Value']>=30]\n",
    "ext_caution_levels_flouride= flouride[(flouride['Value']<30) & (flouride['Value'] >= 10)]\n",
    "caution_levels_flouride = flouride[(flouride['Value']<10) & (flouride['Value'] >= 2)] \n",
    "\n",
    "oxamyl = clean_columns.loc[clean_columns['Analyte Name']=='OXAMYL']\n",
    "danger_levels_oxamyl = oxamyl[oxamyl['Value']>=5000]\n",
    "ext_caution_levels_oxamyl= oxamyl[(oxamyl['Value']<30) & (oxamyl['Value'] >= 10)]\n",
    "caution_levels_oxamyl = oxamyl[(oxamyl['Value']<10) & (oxamyl['Value'] >= 2)] \n",
    "\n",
    "pcb = clean_columns.loc[clean_columns['Analyte Name']=='TOTAL POLYCHLORINATED BIPHENYLS (PCB)']\n",
    "danger_levels_pcb =pcb[pcb['Value']>=10]\n",
    "ext_caution_levels_pcb= pcb[(pcb['Value']<10) & (pcb['Value'] >= 2)]\n",
    "caution_levels_pcb = pcb[(pcb['Value']<2) & (pcb['Value'] >= .5)] \n",
    "\n",
    "asbestos = clean_columns.loc[clean_columns['Analyte Name']=='ASBESTOS']\n",
    "danger_levels_asbestos = asbestos[asbestos['Value']>=100]\n",
    "ext_caution_levels_asbestos= asbestos[(asbestos['Value']<100) & (asbestos['Value'] >= 25)]\n",
    "caution_levels_asbestos = asbestos[(asbestos['Value']<25) & (asbestos['Value'] >= 7)]\n",
    "\n",
    "picloram = clean_columns.loc[clean_columns['Analyte Name']=='PICLORAM']\n",
    "danger_levels_picloram = picloram[picloram['Value']>= 4]\n",
    "ext_caution_levels_picloram= picloram[(picloram['Value']<4) & (picloram['Value'] >= 1)]\n",
    "caution_levels_picloram = picloram[(picloram['Value']<1) & (picloram['Value'] >= .5)]\n"
   ]
  },
  {
   "cell_type": "code",
   "execution_count": 17,
   "metadata": {},
   "outputs": [
    {
     "data": {
      "image/png": "[encoded data removed]",
      "text/plain": [
       "<Figure size 432x288 with 1 Axes>"
      ]
     },
     "metadata": {
      "needs_background": "light"
     },
     "output_type": "display_data"
    }
   ],
   "source": [
    "#Wort state by danger level counts\n",
    "df_danger = pd.concat([danger_levels_picloram,\n",
    "                       danger_levels_asbestos,\n",
    "                       danger_levels_pcb,\n",
    "                       danger_levels_oxamyl,\n",
    "                       danger_levels_flouride,\n",
    "                       danger_levels_mercury,\n",
    "                       danger_levels_selenium,\n",
    "                       danger_levels_arsenic])\n",
    "\n",
    "df_danger.dropna(subset=['State'], how='all', inplace=True)\n",
    "danger_states = df_danger['State'].value_counts()\n",
    "danger_states.plot(kind='bar')\n",
    "plt.show()"
   ]
  },
  {
   "cell_type": "code",
   "execution_count": 18,
   "metadata": {},
   "outputs": [
    {
     "data": {
      "image/png": "[encoded data removed]",
      "text/plain": [
       "<Figure size 432x288 with 1 Axes>"
      ]
     },
     "metadata": {
      "needs_background": "light"
     },
     "output_type": "display_data"
    }
   ],
   "source": [
    "df_ext_caution = pd.concat([ext_caution_levels_picloram,\n",
    "                       ext_caution_levels_asbestos,\n",
    "                       ext_caution_levels_pcb,\n",
    "                       ext_caution_levels_oxamyl,\n",
    "                       ext_caution_levels_flouride,\n",
    "                       ext_caution_levels_mercury,\n",
    "                       ext_caution_levels_selenium,\n",
    "                       ext_caution_levels_arsenic])\n",
    "\n",
    "df_ext_caution.dropna(subset=['State'], how='all', inplace=True)\n",
    "ext_caution_states = df_ext_caution['State'].value_counts()\n",
    "ext_caution_states.plot(kind='bar')\n",
    "plt.show()"
   ]
  },
  {
   "cell_type": "code",
   "execution_count": 27,
   "metadata": {
    "scrolled": true
   },
   "outputs": [
    {
     "data": {
      "image/png": "[encoded data removed]",
      "text/plain": [
       "<Figure size 720x360 with 1 Axes>"
      ]
     },
     "metadata": {
      "needs_background": "light"
     },
     "output_type": "display_data"
    }
   ],
   "source": [
    "df_caution = pd.concat([caution_levels_picloram,\n",
    "                       caution_levels_asbestos,\n",
    "                       caution_levels_pcb,\n",
    "                       caution_levels_oxamyl,\n",
    "                       caution_levels_flouride,\n",
    "                       caution_levels_mercury,\n",
    "                       caution_levels_selenium,\n",
    "                       caution_levels_arsenic])\n",
    "\n",
    "df_caution.dropna(subset=['State'], how='all', inplace=True)\n",
    "caution_states = df_caution['State'].value_counts()\n",
    "caution_states.plot(kind='bar',figsize=(10,5))\n",
    "plt.show()"
   ]
  },
  {
   "cell_type": "code",
   "execution_count": 31,
   "metadata": {},
   "outputs": [
    {
     "data": {
      "text/plain": [
       "California              22734\n",
       "Texas                   21792\n",
       "Florida                 19082\n",
       "New York                18667\n",
       "North Carolina          17977\n",
       "Washington              15760\n",
       "Michigan                15031\n",
       "Wisconsin               12807\n",
       "Pennsylvania            12338\n",
       "Ohio                     9855\n",
       "Connecticut              9743\n",
       "Missouri                 8958\n",
       "Louisiana                8648\n",
       "Illinois                 8456\n",
       "Indiana                  8358\n",
       "Virginia                 8144\n",
       "Oregon                   7986\n",
       "New Hampshire            7865\n",
       "Arizona                  7693\n",
       "New Jersey               7194\n",
       "Minnesota                7193\n",
       "New Mexico               5814\n",
       "Montana                  5250\n",
       "Nebraska                 4641\n",
       "Massachusetts            4455\n",
       "Idaho                    4449\n",
       "Maine                    4318\n",
       "Maryland                 3678\n",
       "Utah                     3663\n",
       "Arkansas                 3591\n",
       "South Carolina           3210\n",
       "Alabama                  3033\n",
       "Vermont                  2979\n",
       "Oklahoma                 2941\n",
       "West Virginia            2799\n",
       "Alaska                   2622\n",
       "Nevada                   2586\n",
       "Iowa                     2518\n",
       "Wyoming                  2438\n",
       "Kansas                   2416\n",
       "Kentucky                 1780\n",
       "South Dakota             1637\n",
       "Tennessee                1153\n",
       "Rhode Island              939\n",
       "North Dakota              897\n",
       "Hawaii                    854\n",
       "Mississippi                40\n",
       "District of Columbia        9\n",
       "Colorado                    6\n",
       "Delaware                    1\n",
       "Name: State, dtype: int64"
      ]
     },
     "execution_count": 31,
     "metadata": {},
     "output_type": "execute_result"
    }
   ],
   "source": [
    "clean_columns['State'].value_counts()\n"
   ]
  }
 ],
 "metadata": {
  "kernelspec": {
   "display_name": "Python 3",
   "language": "python",
   "name": "python3"
  },
  "language_info": {
   "codemirror_mode": {
    "name": "ipython",
    "version": 3
   },
   "file_extension": ".py",
   "mimetype": "text/x-python",
   "name": "python",
   "nbconvert_exporter": "python",
   "pygments_lexer": "ipython3",
   "version": "3.6.10"
  }
 },
 "nbformat": 4,
 "nbformat_minor": 2
}
