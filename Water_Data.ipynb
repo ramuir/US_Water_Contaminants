{
 "metadata": {
  "language_info": {
   "codemirror_mode": {
    "name": "ipython",
    "version": 3
   },
   "file_extension": ".py",
   "mimetype": "text/x-python",
   "name": "python",
   "nbconvert_exporter": "python",
   "pygments_lexer": "ipython3",
   "version": "3.7.6-final"
  },
  "orig_nbformat": 2,
  "kernelspec": {
   "name": "python3",
   "display_name": "Python 3"
  }
 },
 "nbformat": 4,
 "nbformat_minor": 2,
 "cells": [
  {
   "cell_type": "code",
   "execution_count": 2,
   "metadata": {},
   "outputs": [],
   "source": [
    "import pandas as pd \n",
    "import os"
   ]
  },
  {
   "cell_type": "code",
   "execution_count": 3,
   "metadata": {},
   "outputs": [
    {
     "output_type": "execute_result",
     "data": {
      "text/plain": [
       "  State Code   Latitude   Longitude       State\n",
       "0         AL  32.601011  -86.680736     Alabama\n",
       "1         AK  61.302501 -158.775020      Alaska\n",
       "2         AZ  34.168219 -111.930907     Arizona\n",
       "3         AR  34.751928  -92.131378    Arkansas\n",
       "4         CA  37.271875 -119.270415  California"
      ],
      "text/html": "<div>\n<style scoped>\n    .dataframe tbody tr th:only-of-type {\n        vertical-align: middle;\n    }\n\n    .dataframe tbody tr th {\n        vertical-align: top;\n    }\n\n    .dataframe thead th {\n        text-align: right;\n    }\n</style>\n<table border=\"1\" class=\"dataframe\">\n  <thead>\n    <tr style=\"text-align: right;\">\n      <th></th>\n      <th>State Code</th>\n      <th>Latitude</th>\n      <th>Longitude</th>\n      <th>State</th>\n    </tr>\n  </thead>\n  <tbody>\n    <tr>\n      <th>0</th>\n      <td>AL</td>\n      <td>32.601011</td>\n      <td>-86.680736</td>\n      <td>Alabama</td>\n    </tr>\n    <tr>\n      <th>1</th>\n      <td>AK</td>\n      <td>61.302501</td>\n      <td>-158.775020</td>\n      <td>Alaska</td>\n    </tr>\n    <tr>\n      <th>2</th>\n      <td>AZ</td>\n      <td>34.168219</td>\n      <td>-111.930907</td>\n      <td>Arizona</td>\n    </tr>\n    <tr>\n      <th>3</th>\n      <td>AR</td>\n      <td>34.751928</td>\n      <td>-92.131378</td>\n      <td>Arkansas</td>\n    </tr>\n    <tr>\n      <th>4</th>\n      <td>CA</td>\n      <td>37.271875</td>\n      <td>-119.270415</td>\n      <td>California</td>\n    </tr>\n  </tbody>\n</table>\n</div>"
     },
     "metadata": {},
     "execution_count": 3
    }
   ],
   "source": [
    "# CSV for states fullname\n",
    "states_fullname = pd.read_csv('statelatlong.csv').rename(columns={'State':'State Code','City': 'State'})\n",
    "states_fullname.head()"
   ]
  },
  {
   "cell_type": "code",
   "execution_count": 4,
   "metadata": {},
   "outputs": [],
   "source": [
    "file_list = os.listdir(\"Data\")"
   ]
  },
  {
   "cell_type": "code",
   "execution_count": 5,
   "metadata": {},
   "outputs": [],
   "source": [
    "list_of_dataframes = []\n",
    "for filename in file_list:\n",
    "    list_of_dataframes.append(pd.read_table(\"Data/\"+filename))\n",
    "\n",
    "merged_df = pd.concat(list_of_dataframes)\n"
   ]
  },
  {
   "cell_type": "code",
   "execution_count": 6,
   "metadata": {},
   "outputs": [],
   "source": [
    "# adding states full names to full dataset\n",
    "merged_df = pd.merge(merged_df,states_fullname, on='State Code', how='outer')"
   ]
  },
  {
   "cell_type": "code",
   "execution_count": 7,
   "metadata": {},
   "outputs": [
    {
     "output_type": "execute_result",
     "data": {
      "text/plain": [
       "   Analyte ID Analyte Name State Code       PWSID  \\\n",
       "0      1005.0      ARSENIC         AL  AL0000943    \n",
       "1      1005.0      ARSENIC         AL  AL0000091    \n",
       "2      1005.0      ARSENIC         AL  AL0000933    \n",
       "3      1005.0      ARSENIC         AL  AL0000398    \n",
       "4      1005.0      ARSENIC         AL  AL0001780    \n",
       "\n",
       "                              System Name System Type  \\\n",
       "0  GUNTERSVILLE WATER WORKS & SEWER BOARD        C      \n",
       "1                   BRENT UTILITIES BOARD        C      \n",
       "2             ALBERTVILLE UTILITIES BOARD        C      \n",
       "3                 CULLMAN UTILITIES BOARD        C      \n",
       "4         FIVE STAR WATER SUPPLY DISTRICT        C      \n",
       "\n",
       "   Retail Population Served  Adjusted Total Population Served  \\\n",
       "0                   12750.0                           13980.0   \n",
       "1                    5850.0                            6885.0   \n",
       "2                   30186.0                           45915.0   \n",
       "3                      32.0                           31112.0   \n",
       "4                     100.0                            6040.0   \n",
       "\n",
       "  Source Water Type  Water Facility ID  ... Detection Limit Code  Detect  \\\n",
       "0               SW              1553.0  ...                  MDL     0.0   \n",
       "1               GW              4221.0  ...                  MDL     0.0   \n",
       "2               SW              1665.0  ...                  MDL     0.0   \n",
       "3               SW              1346.0  ...                  MDL     0.0   \n",
       "4               SW              4793.0  ...                  MDL     0.0   \n",
       "\n",
       "  Value Unit Presence Indicator Code Residual Field Free Chlorine mg/L  \\\n",
       "0   NaN  NaN                     NaN                               NaN   \n",
       "1   NaN  NaN                     NaN                               NaN   \n",
       "2   NaN  NaN                     NaN                               NaN   \n",
       "3   NaN  NaN                     NaN                               NaN   \n",
       "4   NaN  NaN                     NaN                               NaN   \n",
       "\n",
       "   Residual Field Total Chlorine mg/L   Latitude  Longitude    State  \n",
       "0                                 NaN  32.601011 -86.680736  Alabama  \n",
       "1                                 NaN  32.601011 -86.680736  Alabama  \n",
       "2                                 NaN  32.601011 -86.680736  Alabama  \n",
       "3                                 NaN  32.601011 -86.680736  Alabama  \n",
       "4                                 NaN  32.601011 -86.680736  Alabama  \n",
       "\n",
       "[5 rows x 31 columns]"
      ],
      "text/html": "<div>\n<style scoped>\n    .dataframe tbody tr th:only-of-type {\n        vertical-align: middle;\n    }\n\n    .dataframe tbody tr th {\n        vertical-align: top;\n    }\n\n    .dataframe thead th {\n        text-align: right;\n    }\n</style>\n<table border=\"1\" class=\"dataframe\">\n  <thead>\n    <tr style=\"text-align: right;\">\n      <th></th>\n      <th>Analyte ID</th>\n      <th>Analyte Name</th>\n      <th>State Code</th>\n      <th>PWSID</th>\n      <th>System Name</th>\n      <th>System Type</th>\n      <th>Retail Population Served</th>\n      <th>Adjusted Total Population Served</th>\n      <th>Source Water Type</th>\n      <th>Water Facility ID</th>\n      <th>...</th>\n      <th>Detection Limit Code</th>\n      <th>Detect</th>\n      <th>Value</th>\n      <th>Unit</th>\n      <th>Presence Indicator Code</th>\n      <th>Residual Field Free Chlorine mg/L</th>\n      <th>Residual Field Total Chlorine mg/L</th>\n      <th>Latitude</th>\n      <th>Longitude</th>\n      <th>State</th>\n    </tr>\n  </thead>\n  <tbody>\n    <tr>\n      <th>0</th>\n      <td>1005.0</td>\n      <td>ARSENIC</td>\n      <td>AL</td>\n      <td>AL0000943</td>\n      <td>GUNTERSVILLE WATER WORKS &amp; SEWER BOARD</td>\n      <td>C</td>\n      <td>12750.0</td>\n      <td>13980.0</td>\n      <td>SW</td>\n      <td>1553.0</td>\n      <td>...</td>\n      <td>MDL</td>\n      <td>0.0</td>\n      <td>NaN</td>\n      <td>NaN</td>\n      <td>NaN</td>\n      <td>NaN</td>\n      <td>NaN</td>\n      <td>32.601011</td>\n      <td>-86.680736</td>\n      <td>Alabama</td>\n    </tr>\n    <tr>\n      <th>1</th>\n      <td>1005.0</td>\n      <td>ARSENIC</td>\n      <td>AL</td>\n      <td>AL0000091</td>\n      <td>BRENT UTILITIES BOARD</td>\n      <td>C</td>\n      <td>5850.0</td>\n      <td>6885.0</td>\n      <td>GW</td>\n      <td>4221.0</td>\n      <td>...</td>\n      <td>MDL</td>\n      <td>0.0</td>\n      <td>NaN</td>\n      <td>NaN</td>\n      <td>NaN</td>\n      <td>NaN</td>\n      <td>NaN</td>\n      <td>32.601011</td>\n      <td>-86.680736</td>\n      <td>Alabama</td>\n    </tr>\n    <tr>\n      <th>2</th>\n      <td>1005.0</td>\n      <td>ARSENIC</td>\n      <td>AL</td>\n      <td>AL0000933</td>\n      <td>ALBERTVILLE UTILITIES BOARD</td>\n      <td>C</td>\n      <td>30186.0</td>\n      <td>45915.0</td>\n      <td>SW</td>\n      <td>1665.0</td>\n      <td>...</td>\n      <td>MDL</td>\n      <td>0.0</td>\n      <td>NaN</td>\n      <td>NaN</td>\n      <td>NaN</td>\n      <td>NaN</td>\n      <td>NaN</td>\n      <td>32.601011</td>\n      <td>-86.680736</td>\n      <td>Alabama</td>\n    </tr>\n    <tr>\n      <th>3</th>\n      <td>1005.0</td>\n      <td>ARSENIC</td>\n      <td>AL</td>\n      <td>AL0000398</td>\n      <td>CULLMAN UTILITIES BOARD</td>\n      <td>C</td>\n      <td>32.0</td>\n      <td>31112.0</td>\n      <td>SW</td>\n      <td>1346.0</td>\n      <td>...</td>\n      <td>MDL</td>\n      <td>0.0</td>\n      <td>NaN</td>\n      <td>NaN</td>\n      <td>NaN</td>\n      <td>NaN</td>\n      <td>NaN</td>\n      <td>32.601011</td>\n      <td>-86.680736</td>\n      <td>Alabama</td>\n    </tr>\n    <tr>\n      <th>4</th>\n      <td>1005.0</td>\n      <td>ARSENIC</td>\n      <td>AL</td>\n      <td>AL0001780</td>\n      <td>FIVE STAR WATER SUPPLY DISTRICT</td>\n      <td>C</td>\n      <td>100.0</td>\n      <td>6040.0</td>\n      <td>SW</td>\n      <td>4793.0</td>\n      <td>...</td>\n      <td>MDL</td>\n      <td>0.0</td>\n      <td>NaN</td>\n      <td>NaN</td>\n      <td>NaN</td>\n      <td>NaN</td>\n      <td>NaN</td>\n      <td>32.601011</td>\n      <td>-86.680736</td>\n      <td>Alabama</td>\n    </tr>\n  </tbody>\n</table>\n<p>5 rows × 31 columns</p>\n</div>"
     },
     "metadata": {},
     "execution_count": 7
    }
   ],
   "source": [
    "merged_df.head()"
   ]
  },
  {
   "cell_type": "code",
   "execution_count": 13,
   "metadata": {},
   "outputs": [],
   "source": [
    "# remove repeated values skewing dating\n",
    "no_repeat_locations=merged_df.drop_duplicates(subset=['Analyte Name', 'System Name'])\n",
    "# Shorten column list\n",
    "clean_columns = no_repeat_locations[['Analyte ID', 'Analyte Name', 'State Code','State','Retail Population Served','Source Water Type','Sample Collection Date','Detection Limit Value','Detection Limit Unit','Detect', 'Value','Unit']]\n",
    "# change units to uppercase and strip extra spaces to unify\n",
    "clean_columns['Unit'] = clean_columns['Unit'].str.upper().str.rstrip()\n"
   ]
  },
  {
   "cell_type": "code",
   "execution_count": 28,
   "metadata": {},
   "outputs": [],
   "source": [
    "# unify all measurement for each contaminant if possible AND DROP FECAL COLIFORM\n",
    "clean_columns.drop(clean_columns.index[clean_columns['Analyte Name'] == 'FECAL COLIFORM'], inplace = True)\n",
    "clean_columns.loc[clean_columns['Analyte Name']=='ARSENIC', 'Unit'] ='MG/L'\n",
    "clean_columns.loc[clean_columns['Analyte Name']=='ASBESTOS', 'Unit'] ='MFL'\n",
    "clean_columns.loc[clean_columns['Analyte Name']=='CYANIDE', 'Unit'] ='MG/L'\n",
    "clean_columns.loc[clean_columns['Analyte Name']=='MERCURY', 'Unit'] ='MG/L'\n",
    "clean_columns.loc[clean_columns['Analyte Name']=='OXAMYL', 'Unit'] ='UG/L'\n",
    "clean_columns.loc[clean_columns['Analyte Name']=='PICLORAM', 'Unit'] ='UG/L'\n",
    "clean_columns.loc[clean_columns['Analyte Name']=='SELENIUM', 'Unit'] ='MG/L'\n",
    "clean_columns.loc[clean_columns['Analyte Name']=='TOTAL POLYCHLORINATED BIPHENYLS (PCB)', 'Unit'] ='UG/L'"
   ]
  },
  {
   "cell_type": "code",
   "execution_count": 29,
   "metadata": {},
   "outputs": [
    {
     "output_type": "execute_result",
     "data": {
      "text/plain": [
       "Analyte Name\n",
       "ARSENIC                                  [MG/L]\n",
       "ASBESTOS                                  [MFL]\n",
       "CYANIDE                                  [MG/L]\n",
       "FLUORIDE                                 [MG/L]\n",
       "MERCURY                                  [MG/L]\n",
       "OXAMYL                                   [UG/L]\n",
       "PICLORAM                                 [UG/L]\n",
       "SELENIUM                                 [MG/L]\n",
       "TOTAL POLYCHLORINATED BIPHENYLS (PCB)    [UG/L]\n",
       "Name: Unit, dtype: object"
      ]
     },
     "metadata": {},
     "execution_count": 29
    }
   ],
   "source": [
    "# unify all measurement for each contaminant if possible\n",
    "clean_columns.groupby(['Analyte Name'])['Unit'].unique()\n"
   ]
  },
  {
   "cell_type": "code",
   "execution_count": 35,
   "metadata": {},
   "outputs": [
    {
     "output_type": "execute_result",
     "data": {
      "text/plain": [
       "0          0.000\n",
       "1          0.000\n",
       "2          0.000\n",
       "3          0.000\n",
       "4          0.000\n",
       "           ...  \n",
       "1615962    0.000\n",
       "1615963    0.000\n",
       "1615964    0.001\n",
       "1615967    0.420\n",
       "1615968    0.000\n",
       "Name: Value, Length: 332815, dtype: float64"
      ]
     },
     "metadata": {},
     "execution_count": 35
    }
   ],
   "source": [
    "# Change null Values to 0 \n",
    "clean_columns['Value'].fillna(0)"
   ]
  },
  {
   "cell_type": "code",
   "execution_count": null,
   "metadata": {},
   "outputs": [],
   "source": []
  }
 ]
}