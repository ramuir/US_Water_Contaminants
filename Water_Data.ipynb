{
 "metadata": {
  "language_info": {
   "codemirror_mode": {
    "name": "ipython",
    "version": 3
   },
   "file_extension": ".py",
   "mimetype": "text/x-python",
   "name": "python",
   "nbconvert_exporter": "python",
   "pygments_lexer": "ipython3",
   "version": "3.7.6-final"
  },
  "orig_nbformat": 2,
  "kernelspec": {
   "name": "python3",
   "display_name": "Python 3"
  }
 },
 "nbformat": 4,
 "nbformat_minor": 2,
 "cells": [
  {
   "cell_type": "code",
   "execution_count": 11,
   "metadata": {},
   "outputs": [],
   "source": [
    "import pandas as pd \n",
    "import os"
   ]
  },
  {
   "cell_type": "code",
   "execution_count": 13,
   "metadata": {},
   "outputs": [],
   "source": [
    "file_list = os.listdir(\"Data\")"
   ]
  },
  {
   "cell_type": "code",
   "execution_count": 15,
   "metadata": {},
   "outputs": [],
   "source": [
    "list_of_dataframes = []\n",
    "for filename in file_list:\n",
    "    list_of_dataframes.append(pd.read_table(\"Data/\"+filename))\n",
    "\n",
    "merged_df = pd.concat(list_of_dataframes)\n"
   ]
  },
  {
   "cell_type": "code",
   "execution_count": 16,
   "metadata": {},
   "outputs": [
    {
     "output_type": "execute_result",
     "data": {
      "text/plain": [
       "Index(['Analyte ID', 'Analyte Name', 'State Code', 'PWSID', 'System Name',\n",
       "       'System Type', 'Retail Population Served',\n",
       "       'Adjusted Total Population Served', 'Source Water Type',\n",
       "       'Water Facility ID', 'Water Facility Type', 'Sampling Point ID',\n",
       "       'Sampling Point Type', 'Source Type Code', 'Sample Type Code',\n",
       "       'Laboratory Assigned ID', 'Six Year ID', 'Sample ID',\n",
       "       'Sample Collection Date', 'Detection Limit Value',\n",
       "       'Detection Limit Unit', 'Detection Limit Code', 'Detect', 'Value',\n",
       "       'Unit', 'Presence Indicator Code', 'Residual Field Free Chlorine mg/L',\n",
       "       'Residual Field Total Chlorine mg/L'],\n",
       "      dtype='object')"
      ]
     },
     "metadata": {},
     "execution_count": 16
    }
   ],
   "source": [
    "merged_df.columns"
   ]
  },
  {
   "cell_type": "code",
   "execution_count": 18,
   "metadata": {},
   "outputs": [
    {
     "output_type": "execute_result",
     "data": {
      "text/plain": [
       "   Analyte ID Analyte Name State Code       PWSID  \\\n",
       "0        1005      ARSENIC         AL  AL0000943    \n",
       "1        1005      ARSENIC         AL  AL0000091    \n",
       "2        1005      ARSENIC         AL  AL0000933    \n",
       "3        1005      ARSENIC         AL  AL0000398    \n",
       "4        1005      ARSENIC         AL  AL0001780    \n",
       "\n",
       "                              System Name System Type  \\\n",
       "0  GUNTERSVILLE WATER WORKS & SEWER BOARD        C      \n",
       "1                   BRENT UTILITIES BOARD        C      \n",
       "2             ALBERTVILLE UTILITIES BOARD        C      \n",
       "3                 CULLMAN UTILITIES BOARD        C      \n",
       "4         FIVE STAR WATER SUPPLY DISTRICT        C      \n",
       "\n",
       "   Retail Population Served  Adjusted Total Population Served  \\\n",
       "0                     12750                             13980   \n",
       "1                      5850                              6885   \n",
       "2                     30186                             45915   \n",
       "3                        32                             31112   \n",
       "4                       100                              6040   \n",
       "\n",
       "  Source Water Type  Water Facility ID  ...   Sample Collection Date  \\\n",
       "0               SW                1553  ...  2006-02-02 00:00:00.000   \n",
       "1               GW                4221  ...  2006-01-27 00:00:00.000   \n",
       "2               SW                1665  ...  2006-02-01 00:00:00.000   \n",
       "3               SW                1346  ...  2006-02-20 00:00:00.000   \n",
       "4               SW                4793  ...  2006-04-19 00:00:00.000   \n",
       "\n",
       "   Detection Limit Value Detection Limit Unit Detection Limit Code Detect  \\\n",
       "0                    0.0                 MG/L                  MDL      0   \n",
       "1                    0.0                 MG/L                  MDL      0   \n",
       "2                    0.0                 MG/L                  MDL      0   \n",
       "3                    0.0                 MG/L                  MDL      0   \n",
       "4                    0.0                 MG/L                  MDL      0   \n",
       "\n",
       "  Value  Unit  Presence Indicator Code Residual Field Free Chlorine mg/L  \\\n",
       "0   NaN   NaN                      NaN                               NaN   \n",
       "1   NaN   NaN                      NaN                               NaN   \n",
       "2   NaN   NaN                      NaN                               NaN   \n",
       "3   NaN   NaN                      NaN                               NaN   \n",
       "4   NaN   NaN                      NaN                               NaN   \n",
       "\n",
       "   Residual Field Total Chlorine mg/L  \n",
       "0                                 NaN  \n",
       "1                                 NaN  \n",
       "2                                 NaN  \n",
       "3                                 NaN  \n",
       "4                                 NaN  \n",
       "\n",
       "[5 rows x 28 columns]"
      ],
      "text/html": "<div>\n<style scoped>\n    .dataframe tbody tr th:only-of-type {\n        vertical-align: middle;\n    }\n\n    .dataframe tbody tr th {\n        vertical-align: top;\n    }\n\n    .dataframe thead th {\n        text-align: right;\n    }\n</style>\n<table border=\"1\" class=\"dataframe\">\n  <thead>\n    <tr style=\"text-align: right;\">\n      <th></th>\n      <th>Analyte ID</th>\n      <th>Analyte Name</th>\n      <th>State Code</th>\n      <th>PWSID</th>\n      <th>System Name</th>\n      <th>System Type</th>\n      <th>Retail Population Served</th>\n      <th>Adjusted Total Population Served</th>\n      <th>Source Water Type</th>\n      <th>Water Facility ID</th>\n      <th>...</th>\n      <th>Sample Collection Date</th>\n      <th>Detection Limit Value</th>\n      <th>Detection Limit Unit</th>\n      <th>Detection Limit Code</th>\n      <th>Detect</th>\n      <th>Value</th>\n      <th>Unit</th>\n      <th>Presence Indicator Code</th>\n      <th>Residual Field Free Chlorine mg/L</th>\n      <th>Residual Field Total Chlorine mg/L</th>\n    </tr>\n  </thead>\n  <tbody>\n    <tr>\n      <th>0</th>\n      <td>1005</td>\n      <td>ARSENIC</td>\n      <td>AL</td>\n      <td>AL0000943</td>\n      <td>GUNTERSVILLE WATER WORKS &amp; SEWER BOARD</td>\n      <td>C</td>\n      <td>12750</td>\n      <td>13980</td>\n      <td>SW</td>\n      <td>1553</td>\n      <td>...</td>\n      <td>2006-02-02 00:00:00.000</td>\n      <td>0.0</td>\n      <td>MG/L</td>\n      <td>MDL</td>\n      <td>0</td>\n      <td>NaN</td>\n      <td>NaN</td>\n      <td>NaN</td>\n      <td>NaN</td>\n      <td>NaN</td>\n    </tr>\n    <tr>\n      <th>1</th>\n      <td>1005</td>\n      <td>ARSENIC</td>\n      <td>AL</td>\n      <td>AL0000091</td>\n      <td>BRENT UTILITIES BOARD</td>\n      <td>C</td>\n      <td>5850</td>\n      <td>6885</td>\n      <td>GW</td>\n      <td>4221</td>\n      <td>...</td>\n      <td>2006-01-27 00:00:00.000</td>\n      <td>0.0</td>\n      <td>MG/L</td>\n      <td>MDL</td>\n      <td>0</td>\n      <td>NaN</td>\n      <td>NaN</td>\n      <td>NaN</td>\n      <td>NaN</td>\n      <td>NaN</td>\n    </tr>\n    <tr>\n      <th>2</th>\n      <td>1005</td>\n      <td>ARSENIC</td>\n      <td>AL</td>\n      <td>AL0000933</td>\n      <td>ALBERTVILLE UTILITIES BOARD</td>\n      <td>C</td>\n      <td>30186</td>\n      <td>45915</td>\n      <td>SW</td>\n      <td>1665</td>\n      <td>...</td>\n      <td>2006-02-01 00:00:00.000</td>\n      <td>0.0</td>\n      <td>MG/L</td>\n      <td>MDL</td>\n      <td>0</td>\n      <td>NaN</td>\n      <td>NaN</td>\n      <td>NaN</td>\n      <td>NaN</td>\n      <td>NaN</td>\n    </tr>\n    <tr>\n      <th>3</th>\n      <td>1005</td>\n      <td>ARSENIC</td>\n      <td>AL</td>\n      <td>AL0000398</td>\n      <td>CULLMAN UTILITIES BOARD</td>\n      <td>C</td>\n      <td>32</td>\n      <td>31112</td>\n      <td>SW</td>\n      <td>1346</td>\n      <td>...</td>\n      <td>2006-02-20 00:00:00.000</td>\n      <td>0.0</td>\n      <td>MG/L</td>\n      <td>MDL</td>\n      <td>0</td>\n      <td>NaN</td>\n      <td>NaN</td>\n      <td>NaN</td>\n      <td>NaN</td>\n      <td>NaN</td>\n    </tr>\n    <tr>\n      <th>4</th>\n      <td>1005</td>\n      <td>ARSENIC</td>\n      <td>AL</td>\n      <td>AL0001780</td>\n      <td>FIVE STAR WATER SUPPLY DISTRICT</td>\n      <td>C</td>\n      <td>100</td>\n      <td>6040</td>\n      <td>SW</td>\n      <td>4793</td>\n      <td>...</td>\n      <td>2006-04-19 00:00:00.000</td>\n      <td>0.0</td>\n      <td>MG/L</td>\n      <td>MDL</td>\n      <td>0</td>\n      <td>NaN</td>\n      <td>NaN</td>\n      <td>NaN</td>\n      <td>NaN</td>\n      <td>NaN</td>\n    </tr>\n  </tbody>\n</table>\n<p>5 rows × 28 columns</p>\n</div>"
     },
     "metadata": {},
     "execution_count": 18
    }
   ],
   "source": [
    "merged_df.head()"
   ]
  },
  {
   "cell_type": "code",
   "execution_count": 22,
   "metadata": {},
   "outputs": [],
   "source": [
    "clean_columns = merged_df[['Analyte ID', 'Analyte Name', 'State Code','Retail Population Served','Source Water Type','Sample Collection Date','Detection Limit Value','Detection Limit Unit','Detect', 'Value','Unit','Residual Field Free Chlorine mg/L','Residual Field Total Chlorine mg/L']]"
   ]
  },
  {
   "cell_type": "code",
   "execution_count": 42,
   "metadata": {},
   "outputs": [
    {
     "output_type": "execute_result",
     "data": {
      "text/plain": [
       "   Analyte ID Analyte Name State Code  Retail Population Served  \\\n",
       "0        1005      ARSENIC         AL                     12750   \n",
       "1        1005      ARSENIC         AL                      5850   \n",
       "2        1005      ARSENIC         AL                     30186   \n",
       "3        1005      ARSENIC         AL                        32   \n",
       "4        1005      ARSENIC         AL                       100   \n",
       "\n",
       "  Source Water Type   Sample Collection Date  Detection Limit Value  \\\n",
       "0               SW   2006-02-02 00:00:00.000                    0.0   \n",
       "1               GW   2006-01-27 00:00:00.000                    0.0   \n",
       "2               SW   2006-02-01 00:00:00.000                    0.0   \n",
       "3               SW   2006-02-20 00:00:00.000                    0.0   \n",
       "4               SW   2006-04-19 00:00:00.000                    0.0   \n",
       "\n",
       "  Detection Limit Unit  Detect  Value Unit  Residual Field Free Chlorine mg/L  \\\n",
       "0                 MG/L       0    NaN  NaN                                NaN   \n",
       "1                 MG/L       0    NaN  NaN                                NaN   \n",
       "2                 MG/L       0    NaN  NaN                                NaN   \n",
       "3                 MG/L       0    NaN  NaN                                NaN   \n",
       "4                 MG/L       0    NaN  NaN                                NaN   \n",
       "\n",
       "   Residual Field Total Chlorine mg/L  \n",
       "0                                 NaN  \n",
       "1                                 NaN  \n",
       "2                                 NaN  \n",
       "3                                 NaN  \n",
       "4                                 NaN  "
      ],
      "text/html": "<div>\n<style scoped>\n    .dataframe tbody tr th:only-of-type {\n        vertical-align: middle;\n    }\n\n    .dataframe tbody tr th {\n        vertical-align: top;\n    }\n\n    .dataframe thead th {\n        text-align: right;\n    }\n</style>\n<table border=\"1\" class=\"dataframe\">\n  <thead>\n    <tr style=\"text-align: right;\">\n      <th></th>\n      <th>Analyte ID</th>\n      <th>Analyte Name</th>\n      <th>State Code</th>\n      <th>Retail Population Served</th>\n      <th>Source Water Type</th>\n      <th>Sample Collection Date</th>\n      <th>Detection Limit Value</th>\n      <th>Detection Limit Unit</th>\n      <th>Detect</th>\n      <th>Value</th>\n      <th>Unit</th>\n      <th>Residual Field Free Chlorine mg/L</th>\n      <th>Residual Field Total Chlorine mg/L</th>\n    </tr>\n  </thead>\n  <tbody>\n    <tr>\n      <th>0</th>\n      <td>1005</td>\n      <td>ARSENIC</td>\n      <td>AL</td>\n      <td>12750</td>\n      <td>SW</td>\n      <td>2006-02-02 00:00:00.000</td>\n      <td>0.0</td>\n      <td>MG/L</td>\n      <td>0</td>\n      <td>NaN</td>\n      <td>NaN</td>\n      <td>NaN</td>\n      <td>NaN</td>\n    </tr>\n    <tr>\n      <th>1</th>\n      <td>1005</td>\n      <td>ARSENIC</td>\n      <td>AL</td>\n      <td>5850</td>\n      <td>GW</td>\n      <td>2006-01-27 00:00:00.000</td>\n      <td>0.0</td>\n      <td>MG/L</td>\n      <td>0</td>\n      <td>NaN</td>\n      <td>NaN</td>\n      <td>NaN</td>\n      <td>NaN</td>\n    </tr>\n    <tr>\n      <th>2</th>\n      <td>1005</td>\n      <td>ARSENIC</td>\n      <td>AL</td>\n      <td>30186</td>\n      <td>SW</td>\n      <td>2006-02-01 00:00:00.000</td>\n      <td>0.0</td>\n      <td>MG/L</td>\n      <td>0</td>\n      <td>NaN</td>\n      <td>NaN</td>\n      <td>NaN</td>\n      <td>NaN</td>\n    </tr>\n    <tr>\n      <th>3</th>\n      <td>1005</td>\n      <td>ARSENIC</td>\n      <td>AL</td>\n      <td>32</td>\n      <td>SW</td>\n      <td>2006-02-20 00:00:00.000</td>\n      <td>0.0</td>\n      <td>MG/L</td>\n      <td>0</td>\n      <td>NaN</td>\n      <td>NaN</td>\n      <td>NaN</td>\n      <td>NaN</td>\n    </tr>\n    <tr>\n      <th>4</th>\n      <td>1005</td>\n      <td>ARSENIC</td>\n      <td>AL</td>\n      <td>100</td>\n      <td>SW</td>\n      <td>2006-04-19 00:00:00.000</td>\n      <td>0.0</td>\n      <td>MG/L</td>\n      <td>0</td>\n      <td>NaN</td>\n      <td>NaN</td>\n      <td>NaN</td>\n      <td>NaN</td>\n    </tr>\n  </tbody>\n</table>\n</div>"
     },
     "metadata": {},
     "execution_count": 42
    }
   ],
   "source": [
    "clean_columns.head()"
   ]
  },
  {
   "cell_type": "code",
   "execution_count": null,
   "metadata": {},
   "outputs": [],
   "source": []
  }
 ]
}